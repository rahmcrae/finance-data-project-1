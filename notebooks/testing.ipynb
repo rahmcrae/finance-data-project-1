{
 "cells": [
  {
   "cell_type": "markdown",
   "id": "6d2f6ee2-08ca-433f-b23e-0e47f61df747",
   "metadata": {},
   "source": [
    "# Testing / Proof of Concept (POC)\n",
    "#### By Rah"
   ]
  },
  {
   "cell_type": "markdown",
   "id": "00f6963f-83ea-49c8-bc22-86dd9a649370",
   "metadata": {},
   "source": [
    "## imports"
   ]
  },
  {
   "cell_type": "code",
   "execution_count": 1,
   "id": "e14ea812-4cd5-4531-a60d-1f83ad94d6f3",
   "metadata": {},
   "outputs": [],
   "source": [
    "from langgraph.graph import StateGraph\n",
    "from langgraph.graph.message import add_messages\n",
    "from langgraph.prebuilt import ToolNode\n",
    "from langchain_core.tools import tool\n",
    "from langgraph.prebuilt import ToolNode\n",
    "from langchain_openai import ChatOpenAI"
   ]
  },
  {
   "cell_type": "code",
   "execution_count": null,
   "id": "6c97cd8b-9ff1-443d-ac6a-649448ecfb5a",
   "metadata": {},
   "outputs": [],
   "source": []
  },
  {
   "cell_type": "code",
   "execution_count": null,
   "id": "95882c9f-e828-45e0-8af1-819706da9dc3",
   "metadata": {},
   "outputs": [],
   "source": []
  },
  {
   "cell_type": "markdown",
   "id": "04abe807-7a31-4b7b-8f93-d1497e3efc1a",
   "metadata": {},
   "source": [
    "## testing begins"
   ]
  },
  {
   "cell_type": "code",
   "execution_count": 2,
   "id": "b64673cb-193d-491c-b32b-e93bfc0d1e19",
   "metadata": {},
   "outputs": [
    {
     "name": "stdout",
     "output_type": "stream",
     "text": [
      "The history saving thread hit an unexpected error (OperationalError('attempt to write a readonly database')).History will not be written to the database.\n"
     ]
    },
    {
     "ename": "NameError",
     "evalue": "name 'TypedDict' is not defined",
     "output_type": "error",
     "traceback": [
      "\u001b[0;31m---------------------------------------------------------------------------\u001b[0m",
      "\u001b[0;31mNameError\u001b[0m                                 Traceback (most recent call last)",
      "Cell \u001b[0;32mIn[2], line 1\u001b[0m\n\u001b[0;32m----> 1\u001b[0m \u001b[38;5;28;01mclass\u001b[39;00m\u001b[38;5;250m \u001b[39m\u001b[38;5;21;01mState\u001b[39;00m(\u001b[43mTypedDict\u001b[49m):\n\u001b[1;32m      2\u001b[0m     messages: Annotated[\u001b[38;5;28mlist\u001b[39m, add_messages]\n\u001b[1;32m      4\u001b[0m graph \u001b[38;5;241m=\u001b[39m StateGraph(State)\n",
      "\u001b[0;31mNameError\u001b[0m: name 'TypedDict' is not defined"
     ]
    }
   ],
   "source": [
    "class State(TypedDict):\n",
    "    messages: Annotated[list, add_messages]\n",
    "\n",
    "graph = StateGraph(State)"
   ]
  }
 ],
 "metadata": {
  "kernelspec": {
   "display_name": "Python 3 (ipykernel)",
   "language": "python",
   "name": "python3"
  },
  "language_info": {
   "codemirror_mode": {
    "name": "ipython",
    "version": 3
   },
   "file_extension": ".py",
   "mimetype": "text/x-python",
   "name": "python",
   "nbconvert_exporter": "python",
   "pygments_lexer": "ipython3",
   "version": "3.10.11"
  }
 },
 "nbformat": 4,
 "nbformat_minor": 5
}
