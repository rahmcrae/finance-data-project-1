{
 "cells": [
  {
   "cell_type": "markdown",
   "id": "cf8a289b-8540-402e-873a-89dc5ea20916",
   "metadata": {},
   "source": [
    "# 🔎 Exploratory Analysis 🔎"
   ]
  },
  {
   "cell_type": "markdown",
   "id": "91b32ae5-32af-4e4c-a42e-cdadf5ed7000",
   "metadata": {},
   "source": [
    "## ❓ Questions to Answer? ❓\n",
    "- 1️⃣\n",
    "- 2️⃣\n",
    "- 3️⃣\n",
    "- 4️⃣\n",
    "- 5️⃣"
   ]
  },
  {
   "cell_type": "code",
   "execution_count": null,
   "id": "c379b1a5-65b7-44b3-b021-b9f93e1151c3",
   "metadata": {},
   "outputs": [],
   "source": []
  },
  {
   "cell_type": "code",
   "execution_count": null,
   "id": "cf824e2a-470d-4b75-8d8f-69e6fc10a360",
   "metadata": {},
   "outputs": [],
   "source": []
  },
  {
   "cell_type": "code",
   "execution_count": null,
   "id": "8f5df3eb-f37c-43da-a992-fdc5f81f0ae9",
   "metadata": {},
   "outputs": [],
   "source": []
  }
 ],
 "metadata": {
  "kernelspec": {
   "display_name": "Python 3 (ipykernel)",
   "language": "python",
   "name": "python3"
  },
  "language_info": {
   "codemirror_mode": {
    "name": "ipython",
    "version": 3
   },
   "file_extension": ".py",
   "mimetype": "text/x-python",
   "name": "python",
   "nbconvert_exporter": "python",
   "pygments_lexer": "ipython3",
   "version": "3.10.18"
  }
 },
 "nbformat": 4,
 "nbformat_minor": 5
}
